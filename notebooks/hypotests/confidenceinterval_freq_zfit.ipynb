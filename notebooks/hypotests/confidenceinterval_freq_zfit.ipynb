{
 "cells": [
  {
   "cell_type": "markdown",
   "metadata": {},
   "source": [
    "# Example of confidence interval computation"
   ]
  },
  {
   "cell_type": "code",
   "execution_count": 1,
   "metadata": {},
   "outputs": [
    {
     "name": "stderr",
     "output_type": "stream",
     "text": [
      "/Users/matthieumarinangeli/anaconda3/envs/tfn/lib/python3.7/site-packages/zfit-0.1.dev1243+g3358391.d20191114-py3.7.egg/zfit/util/execution.py:61: UserWarning: Not running on Linux. Determining available cpus for thread can failand be overestimated. Workaround (only if too many cpus are used):`zfit.run.set_n_cpu(your_cpu_number)`\n",
      "  warnings.warn(\"Not running on Linux. Determining available cpus for thread can fail\"\n"
     ]
    }
   ],
   "source": [
    "import numpy as np\n",
    "import matplotlib.pyplot as plt\n",
    "\n",
    "import zfit\n",
    "from zfit.loss import ExtendedUnbinnedNLL\n",
    "from zfit.minimize import Minuit\n",
    "\n",
    "from skstats.hypotests.calculators import FrequentistCalculator\n",
    "from skstats.hypotests import ConfidenceInterval\n",
    "from skstats.hypotests.parameters import POIarray\n",
    "\n",
    "from utils import one_minus_cl_plot"
   ]
  },
  {
   "cell_type": "markdown",
   "metadata": {},
   "source": [
    "### Fit of a Gaussian signal over an exponential background:"
   ]
  },
  {
   "cell_type": "code",
   "execution_count": 2,
   "metadata": {},
   "outputs": [
    {
     "data": {
      "image/png": "[encoded data removed]",
      "text/plain": [
       "<Figure size 432x288 with 1 Axes>"
      ]
     },
     "metadata": {
      "needs_background": "light"
     },
     "output_type": "display_data"
    }
   ],
   "source": [
    "bounds = (0.1, 3.0)\n",
    "\n",
    "# Data and signal\n",
    "\n",
    "np.random.seed(0)\n",
    "tau = -2.0\n",
    "beta = -1/tau\n",
    "data = np.random.exponential(beta, 300)\n",
    "peak = np.random.normal(1.2, 0.1, 80)\n",
    "data = np.concatenate((data,peak))\n",
    "data = data[(data > bounds[0]) & (data < bounds[1])]\n",
    "\n",
    "plt.hist(data, bins=100, histtype='step');"
   ]
  },
  {
   "cell_type": "code",
   "execution_count": 3,
   "metadata": {},
   "outputs": [],
   "source": [
    "obs = zfit.Space('x', limits=bounds)"
   ]
  },
  {
   "cell_type": "code",
   "execution_count": 4,
   "metadata": {},
   "outputs": [],
   "source": [
    "mean = zfit.Parameter(\"mean\", 1.2, 0.5, 2.0)\n",
    "sigma = zfit.Parameter(\"sigma\", 0.1, 0.02, 0.2)\n",
    "lambda_ = zfit.Parameter(\"lambda\",-2.0, -4.0, -1.0)\n",
    "Nsig = zfit.Parameter(\"Nsig\", 20., -20., len(data))\n",
    "Nbkg = zfit.Parameter(\"Nbkg\", len(data), 0., len(data)*1.1)"
   ]
  },
  {
   "cell_type": "code",
   "execution_count": 5,
   "metadata": {},
   "outputs": [],
   "source": [
    "signal = Nsig * zfit.pdf.Gauss(obs=obs, mu=mean, sigma=sigma)\n",
    "background =  Nbkg * zfit.pdf.Exponential(obs=obs, lambda_=lambda_)\n",
    "tot_model = signal + background"
   ]
  },
  {
   "cell_type": "code",
   "execution_count": 6,
   "metadata": {},
   "outputs": [],
   "source": [
    "# Create the negative log likelihood\n",
    "data_ = zfit.data.Data.from_numpy(obs=obs, array=data)\n",
    "nll = ExtendedUnbinnedNLL(model=[tot_model], data=[data_]) "
   ]
  },
  {
   "cell_type": "code",
   "execution_count": 7,
   "metadata": {},
   "outputs": [],
   "source": [
    "# Instantiate a minuit minimizer\n",
    "minimizer = Minuit()"
   ]
  },
  {
   "cell_type": "code",
   "execution_count": 8,
   "metadata": {},
   "outputs": [
    {
     "name": "stdout",
     "output_type": "stream",
     "text": [
      "WARNING:tensorflow:From /Users/matthieumarinangeli/anaconda3/envs/tfn/lib/python3.7/site-packages/tensorflow/python/ops/array_ops.py:1354: add_dispatch_support.<locals>.wrapper (from tensorflow.python.ops.array_ops) is deprecated and will be removed in a future version.\n",
      "Instructions for updating:\n",
      "Use tf.where in 2.0, which has the same broadcast rule as np.where\n",
      "WARNING:tensorflow:From /Users/matthieumarinangeli/anaconda3/envs/tfn/lib/python3.7/site-packages/zfit-0.1.dev1243+g3358391.d20191114-py3.7.egg/zfit/core/parameter.py:465: Variable.load (from tensorflow.python.ops.variables) is deprecated and will be removed in a future version.\n",
      "Instructions for updating:\n",
      "Prefer Variable.assign which has equivalent behavior in 2.X.\n"
     ]
    },
    {
     "data": {
      "text/html": [
       "<hr>"
      ]
     },
     "metadata": {},
     "output_type": "display_data"
    },
    {
     "data": {
      "text/html": [
       "<table>\n",
       "    <tr>\n",
       "        <td title=\"Minimum value of function\">FCN = -1430.5234282753304</td>\n",
       "        <td title=\"Total number of call to FCN so far\">TOTAL NCALL = 147</td>\n",
       "        <td title=\"Number of call in last migrad\">NCALLS = 147</td>\n",
       "    </tr>\n",
       "    <tr>\n",
       "        <td title=\"Estimated distance to minimum\">EDM = 2.1872156563911315e-06</td>\n",
       "        <td title=\"Maximum EDM definition of convergence\">GOAL EDM = 5e-06</td>\n",
       "        <td title=\"Error def. Amount of increase in FCN to be defined as 1 standard deviation\">\n",
       "        UP = 0.5</td>\n",
       "    </tr>\n",
       "</table>\n",
       "<table>\n",
       "    <tr>\n",
       "        <td align=\"center\" title=\"Validity of the migrad call\">Valid</td>\n",
       "        <td align=\"center\" title=\"Validity of parameters\">Valid Param</td>\n",
       "        <td align=\"center\" title=\"Is Covariance matrix accurate?\">Accurate Covar</td>\n",
       "        <td align=\"center\" title=\"Positive definiteness of covariance matrix\">PosDef</td>\n",
       "        <td align=\"center\" title=\"Was covariance matrix made posdef by adding diagonal element\">Made PosDef</td>\n",
       "    </tr>\n",
       "    <tr>\n",
       "        <td align=\"center\" style=\"background-color:#92CCA6\">True</td>\n",
       "        <td align=\"center\" style=\"background-color:#92CCA6\">True</td>\n",
       "        <td align=\"center\" style=\"background-color:#92CCA6\">True</td>\n",
       "        <td align=\"center\" style=\"background-color:#92CCA6\">True</td>\n",
       "        <td align=\"center\" style=\"background-color:#92CCA6\">False</td>\n",
       "    </tr>\n",
       "    <tr>\n",
       "        <td align=\"center\" title=\"Was last hesse call fail?\">Hesse Fail</td>\n",
       "        <td align=\"center\" title=\"Validity of covariance\">HasCov</td>\n",
       "        <td align=\"center\" title=\"Is EDM above goal EDM?\">Above EDM</td>\n",
       "        <td align=\"center\"></td>\n",
       "        <td align=\"center\" title=\"Did last migrad call reach max call limit?\">Reach calllim</td>\n",
       "    </tr>\n",
       "    <tr>\n",
       "        <td align=\"center\" style=\"background-color:#92CCA6\">False</td>\n",
       "        <td align=\"center\" style=\"background-color:#92CCA6\">True</td>\n",
       "        <td align=\"center\" style=\"background-color:#92CCA6\">False</td>\n",
       "        <td align=\"center\"></td>\n",
       "        <td align=\"center\" style=\"background-color:#92CCA6\">False</td>\n",
       "    </tr>\n",
       "</table>"
      ]
     },
     "metadata": {},
     "output_type": "display_data"
    },
    {
     "data": {
      "text/html": [
       "<table>\n",
       "    <tr>\n",
       "        <td><a href=\"#\" onclick=\"$('#TbpUggZFok').toggle()\">+</a></td>\n",
       "        <td title=\"Variable name\">Name</td>\n",
       "        <td title=\"Value of parameter\">Value</td>\n",
       "        <td title=\"Hesse error\">Hesse Error</td>\n",
       "        <td title=\"Minos lower error\">Minos Error-</td>\n",
       "        <td title=\"Minos upper error\">Minos Error+</td>\n",
       "        <td title=\"Lower limit of the parameter\">Limit-</td>\n",
       "        <td title=\"Upper limit of the parameter\">Limit+</td>\n",
       "        <td title=\"Is the parameter fixed in the fit\">Fixed?</td>\n",
       "    </tr>\n",
       "    <tr>\n",
       "        <td>0</td>\n",
       "        <td>Nbkg</td>\n",
       "        <td>246.919</td>\n",
       "        <td>17.469</td>\n",
       "        <td></td>\n",
       "        <td></td>\n",
       "        <td>0</td>\n",
       "        <td>358.6</td>\n",
       "        <td>No</td>\n",
       "    </tr>\n",
       "    <tr>\n",
       "        <td>1</td>\n",
       "        <td>Nsig</td>\n",
       "        <td>79.1084</td>\n",
       "        <td>11.7657</td>\n",
       "        <td></td>\n",
       "        <td></td>\n",
       "        <td>-20</td>\n",
       "        <td>326</td>\n",
       "        <td>No</td>\n",
       "    </tr>\n",
       "    <tr>\n",
       "        <td>2</td>\n",
       "        <td>mean</td>\n",
       "        <td>1.19825</td>\n",
       "        <td>0.0173342</td>\n",
       "        <td></td>\n",
       "        <td></td>\n",
       "        <td>0.5</td>\n",
       "        <td>2</td>\n",
       "        <td>No</td>\n",
       "    </tr>\n",
       "    <tr>\n",
       "        <td>3</td>\n",
       "        <td>sigma</td>\n",
       "        <td>0.11252</td>\n",
       "        <td>0.0167949</td>\n",
       "        <td></td>\n",
       "        <td></td>\n",
       "        <td>0.02</td>\n",
       "        <td>0.2</td>\n",
       "        <td>No</td>\n",
       "    </tr>\n",
       "    <tr>\n",
       "        <td>4</td>\n",
       "        <td>lambda</td>\n",
       "        <td>-1.98064</td>\n",
       "        <td>0.1573</td>\n",
       "        <td></td>\n",
       "        <td></td>\n",
       "        <td>-4</td>\n",
       "        <td>-1</td>\n",
       "        <td>No</td>\n",
       "    </tr>\n",
       "</table>\n",
       "<pre id=\"TbpUggZFok\" style=\"display:none;\">\n",
       "<textarea rows=\"16\" cols=\"50\" onclick=\"this.select()\" readonly>\n",
       "\\begin{tabular}{|c|r|r|r|r|r|r|r|c|}\n",
       "\\hline\n",
       " & Name & Value & Hesse Error & Minos Error- & Minos Error+ & Limit- & Limit+ & Fixed?\\\\\n",
       "\\hline\n",
       "0 & Nbkg & 246.919 & 17.469 &  &  & 0.0 & 358.6 & No\\\\\n",
       "\\hline\n",
       "1 & Nsig & 79.1084 & 11.7657 &  &  & -20.0 & 326 & No\\\\\n",
       "\\hline\n",
       "2 & mean & 1.19825 & 0.0173342 &  &  & 0.5 & 2 & No\\\\\n",
       "\\hline\n",
       "3 & $\\sigma$ & 0.11252 & 0.0167949 &  &  & 0.019999999552965164 & 0.2 & No\\\\\n",
       "\\hline\n",
       "4 & $\\lambda$ & -1.98064 & 0.1573 &  &  & -4.0 & -1 & No\\\\\n",
       "\\hline\n",
       "\\end{tabular}\n",
       "</textarea>\n",
       "</pre>"
      ]
     },
     "metadata": {},
     "output_type": "display_data"
    },
    {
     "data": {
      "text/html": [
       "<hr>"
      ]
     },
     "metadata": {},
     "output_type": "display_data"
    }
   ],
   "source": [
    "# minimisation of the loss function\n",
    "minimum = minimizer.minimize(loss=nll)"
   ]
  },
  {
   "cell_type": "code",
   "execution_count": 9,
   "metadata": {},
   "outputs": [],
   "source": [
    "def plotfitresult(pdf, bounds, nbins, data):\n",
    "    x = np.linspace(*bounds, num=1000)\n",
    "    pdf = zfit.run(tot_model.pdf(x, norm_range=bounds)* tot_model.get_yield())\n",
    "    _ = plt.plot(x, ((bounds[1] - bounds[0])/nbins)*(pdf), \"-r\", label=\"fit result\")"
   ]
  },
  {
   "cell_type": "code",
   "execution_count": 10,
   "metadata": {},
   "outputs": [
    {
     "data": {
      "text/plain": [
       "Text(0, 0.5, 'number of events')"
      ]
     },
     "execution_count": 10,
     "metadata": {},
     "output_type": "execute_result"
    },
    {
     "data": {
      "image/png": "[encoded data removed]",
      "text/plain": [
       "<Figure size 432x288 with 1 Axes>"
      ]
     },
     "metadata": {
      "needs_background": "light"
     },
     "output_type": "display_data"
    }
   ],
   "source": [
    "nbins = 80\n",
    "plt.hist(data, bins=nbins, histtype='step', range=bounds);\n",
    "plotfitresult(tot_model, bounds, nbins, data)\n",
    "plt.xlabel(\"m [GeV/c$^2$]\")\n",
    "plt.ylabel(\"number of events\")"
   ]
  },
  {
   "cell_type": "markdown",
   "metadata": {},
   "source": [
    "### Confidence interval\n",
    "\n",
    "We want to compute the confidence interval of the mean of the Gaussian at 68% confidence level."
   ]
  },
  {
   "cell_type": "code",
   "execution_count": 11,
   "metadata": {},
   "outputs": [],
   "source": [
    "# instantation of the calculator\n",
    "calculator = FrequentistCalculator(nll, minimizer, ntoysnull=200)\n",
    "calculator.bestfit = minimum #optionnal"
   ]
  },
  {
   "cell_type": "code",
   "execution_count": 12,
   "metadata": {},
   "outputs": [],
   "source": [
    "# parameter of interest of the null hypothesis\n",
    "poinull = POIarray(mean, np.linspace(1.15, 1.26, 40))"
   ]
  },
  {
   "cell_type": "code",
   "execution_count": 13,
   "metadata": {},
   "outputs": [],
   "source": [
    "# instantation of the discovery test\n",
    "ci = ConfidenceInterval(calculator, poinull)"
   ]
  },
  {
   "cell_type": "code",
   "execution_count": 14,
   "metadata": {},
   "outputs": [
    {
     "name": "stdout",
     "output_type": "stream",
     "text": [
      "Generating null hypothesis toys for POI('mean', value=1.15).\n",
      "0 toys generated, fitted and scanned!\n",
      "40 toys generated, fitted and scanned!\n",
      "80 toys generated, fitted and scanned!\n",
      "120 toys generated, fitted and scanned!\n",
      "160 toys generated, fitted and scanned!\n",
      "Generating null hypothesis toys for POI('mean', value=1.1528205128205127).\n",
      "0 toys generated, fitted and scanned!\n",
      "40 toys generated, fitted and scanned!\n",
      "80 toys generated, fitted and scanned!\n",
      "120 toys generated, fitted and scanned!\n",
      "160 toys generated, fitted and scanned!\n",
      "Generating null hypothesis toys for POI('mean', value=1.1556410256410257).\n",
      "0 toys generated, fitted and scanned!\n",
      "40 toys generated, fitted and scanned!\n",
      "80 toys generated, fitted and scanned!\n",
      "120 toys generated, fitted and scanned!\n",
      "160 toys generated, fitted and scanned!\n",
      "Generating null hypothesis toys for POI('mean', value=1.1584615384615384).\n",
      "0 toys generated, fitted and scanned!\n",
      "40 toys generated, fitted and scanned!\n",
      "80 toys generated, fitted and scanned!\n",
      "120 toys generated, fitted and scanned!\n",
      "160 toys generated, fitted and scanned!\n",
      "Generating null hypothesis toys for POI('mean', value=1.1612820512820512).\n",
      "0 toys generated, fitted and scanned!\n",
      "40 toys generated, fitted and scanned!\n",
      "80 toys generated, fitted and scanned!\n",
      "120 toys generated, fitted and scanned!\n",
      "160 toys generated, fitted and scanned!\n",
      "Generating null hypothesis toys for POI('mean', value=1.164102564102564).\n",
      "0 toys generated, fitted and scanned!\n",
      "40 toys generated, fitted and scanned!\n",
      "80 toys generated, fitted and scanned!\n",
      "120 toys generated, fitted and scanned!\n",
      "160 toys generated, fitted and scanned!\n",
      "Generating null hypothesis toys for POI('mean', value=1.166923076923077).\n",
      "0 toys generated, fitted and scanned!\n",
      "40 toys generated, fitted and scanned!\n",
      "80 toys generated, fitted and scanned!\n",
      "120 toys generated, fitted and scanned!\n",
      "160 toys generated, fitted and scanned!\n",
      "Generating null hypothesis toys for POI('mean', value=1.1697435897435897).\n",
      "0 toys generated, fitted and scanned!\n",
      "40 toys generated, fitted and scanned!\n",
      "80 toys generated, fitted and scanned!\n",
      "120 toys generated, fitted and scanned!\n",
      "160 toys generated, fitted and scanned!\n",
      "Generating null hypothesis toys for POI('mean', value=1.1725641025641025).\n",
      "0 toys generated, fitted and scanned!\n",
      "40 toys generated, fitted and scanned!\n",
      "80 toys generated, fitted and scanned!\n",
      "120 toys generated, fitted and scanned!\n",
      "160 toys generated, fitted and scanned!\n",
      "Generating null hypothesis toys for POI('mean', value=1.1753846153846153).\n",
      "0 toys generated, fitted and scanned!\n",
      "40 toys generated, fitted and scanned!\n",
      "80 toys generated, fitted and scanned!\n",
      "120 toys generated, fitted and scanned!\n",
      "160 toys generated, fitted and scanned!\n",
      "Generating null hypothesis toys for POI('mean', value=1.1782051282051282).\n",
      "0 toys generated, fitted and scanned!\n",
      "40 toys generated, fitted and scanned!\n",
      "80 toys generated, fitted and scanned!\n",
      "120 toys generated, fitted and scanned!\n",
      "160 toys generated, fitted and scanned!\n",
      "Generating null hypothesis toys for POI('mean', value=1.181025641025641).\n",
      "0 toys generated, fitted and scanned!\n",
      "40 toys generated, fitted and scanned!\n",
      "80 toys generated, fitted and scanned!\n",
      "120 toys generated, fitted and scanned!\n",
      "160 toys generated, fitted and scanned!\n",
      "Generating null hypothesis toys for POI('mean', value=1.1838461538461538).\n",
      "0 toys generated, fitted and scanned!\n",
      "40 toys generated, fitted and scanned!\n",
      "80 toys generated, fitted and scanned!\n",
      "120 toys generated, fitted and scanned!\n",
      "160 toys generated, fitted and scanned!\n",
      "Generating null hypothesis toys for POI('mean', value=1.1866666666666665).\n",
      "0 toys generated, fitted and scanned!\n",
      "40 toys generated, fitted and scanned!\n",
      "80 toys generated, fitted and scanned!\n",
      "120 toys generated, fitted and scanned!\n",
      "160 toys generated, fitted and scanned!\n",
      "Generating null hypothesis toys for POI('mean', value=1.1894871794871795).\n",
      "0 toys generated, fitted and scanned!\n",
      "40 toys generated, fitted and scanned!\n",
      "80 toys generated, fitted and scanned!\n",
      "120 toys generated, fitted and scanned!\n",
      "160 toys generated, fitted and scanned!\n",
      "Generating null hypothesis toys for POI('mean', value=1.1923076923076923).\n",
      "0 toys generated, fitted and scanned!\n",
      "40 toys generated, fitted and scanned!\n",
      "80 toys generated, fitted and scanned!\n",
      "120 toys generated, fitted and scanned!\n",
      "160 toys generated, fitted and scanned!\n",
      "Generating null hypothesis toys for POI('mean', value=1.195128205128205).\n",
      "0 toys generated, fitted and scanned!\n",
      "40 toys generated, fitted and scanned!\n",
      "80 toys generated, fitted and scanned!\n",
      "120 toys generated, fitted and scanned!\n",
      "160 toys generated, fitted and scanned!\n",
      "Generating null hypothesis toys for POI('mean', value=1.1979487179487178).\n",
      "0 toys generated, fitted and scanned!\n",
      "40 toys generated, fitted and scanned!\n",
      "80 toys generated, fitted and scanned!\n",
      "120 toys generated, fitted and scanned!\n",
      "160 toys generated, fitted and scanned!\n",
      "Generating null hypothesis toys for POI('mean', value=1.2007692307692308).\n",
      "0 toys generated, fitted and scanned!\n",
      "40 toys generated, fitted and scanned!\n",
      "80 toys generated, fitted and scanned!\n",
      "120 toys generated, fitted and scanned!\n",
      "160 toys generated, fitted and scanned!\n",
      "Generating null hypothesis toys for POI('mean', value=1.2035897435897436).\n",
      "0 toys generated, fitted and scanned!\n",
      "40 toys generated, fitted and scanned!\n",
      "80 toys generated, fitted and scanned!\n",
      "120 toys generated, fitted and scanned!\n",
      "160 toys generated, fitted and scanned!\n",
      "Generating null hypothesis toys for POI('mean', value=1.2064102564102563).\n",
      "0 toys generated, fitted and scanned!\n",
      "40 toys generated, fitted and scanned!\n",
      "80 toys generated, fitted and scanned!\n",
      "120 toys generated, fitted and scanned!\n",
      "160 toys generated, fitted and scanned!\n",
      "Generating null hypothesis toys for POI('mean', value=1.209230769230769).\n",
      "0 toys generated, fitted and scanned!\n",
      "40 toys generated, fitted and scanned!\n",
      "80 toys generated, fitted and scanned!\n",
      "120 toys generated, fitted and scanned!\n",
      "160 toys generated, fitted and scanned!\n",
      "Generating null hypothesis toys for POI('mean', value=1.212051282051282).\n",
      "0 toys generated, fitted and scanned!\n",
      "40 toys generated, fitted and scanned!\n",
      "80 toys generated, fitted and scanned!\n",
      "120 toys generated, fitted and scanned!\n",
      "160 toys generated, fitted and scanned!\n",
      "Generating null hypothesis toys for POI('mean', value=1.2148717948717949).\n",
      "0 toys generated, fitted and scanned!\n",
      "40 toys generated, fitted and scanned!\n",
      "80 toys generated, fitted and scanned!\n",
      "120 toys generated, fitted and scanned!\n",
      "160 toys generated, fitted and scanned!\n",
      "Generating null hypothesis toys for POI('mean', value=1.2176923076923076).\n",
      "0 toys generated, fitted and scanned!\n",
      "40 toys generated, fitted and scanned!\n",
      "80 toys generated, fitted and scanned!\n",
      "120 toys generated, fitted and scanned!\n",
      "160 toys generated, fitted and scanned!\n",
      "Generating null hypothesis toys for POI('mean', value=1.2205128205128204).\n",
      "0 toys generated, fitted and scanned!\n",
      "40 toys generated, fitted and scanned!\n",
      "80 toys generated, fitted and scanned!\n",
      "120 toys generated, fitted and scanned!\n",
      "160 toys generated, fitted and scanned!\n",
      "Generating null hypothesis toys for POI('mean', value=1.2233333333333334).\n",
      "0 toys generated, fitted and scanned!\n",
      "40 toys generated, fitted and scanned!\n",
      "80 toys generated, fitted and scanned!\n",
      "120 toys generated, fitted and scanned!\n",
      "160 toys generated, fitted and scanned!\n",
      "Generating null hypothesis toys for POI('mean', value=1.2261538461538461).\n",
      "0 toys generated, fitted and scanned!\n",
      "40 toys generated, fitted and scanned!\n",
      "80 toys generated, fitted and scanned!\n",
      "120 toys generated, fitted and scanned!\n",
      "160 toys generated, fitted and scanned!\n",
      "Generating null hypothesis toys for POI('mean', value=1.228974358974359).\n",
      "0 toys generated, fitted and scanned!\n",
      "40 toys generated, fitted and scanned!\n",
      "80 toys generated, fitted and scanned!\n",
      "120 toys generated, fitted and scanned!\n",
      "160 toys generated, fitted and scanned!\n",
      "Generating null hypothesis toys for POI('mean', value=1.2317948717948717).\n",
      "0 toys generated, fitted and scanned!\n",
      "40 toys generated, fitted and scanned!\n",
      "80 toys generated, fitted and scanned!\n",
      "120 toys generated, fitted and scanned!\n",
      "160 toys generated, fitted and scanned!\n",
      "Generating null hypothesis toys for POI('mean', value=1.2346153846153847).\n",
      "0 toys generated, fitted and scanned!\n",
      "40 toys generated, fitted and scanned!\n",
      "80 toys generated, fitted and scanned!\n",
      "120 toys generated, fitted and scanned!\n",
      "160 toys generated, fitted and scanned!\n",
      "Generating null hypothesis toys for POI('mean', value=1.2374358974358974).\n",
      "0 toys generated, fitted and scanned!\n",
      "40 toys generated, fitted and scanned!\n",
      "80 toys generated, fitted and scanned!\n",
      "120 toys generated, fitted and scanned!\n",
      "160 toys generated, fitted and scanned!\n",
      "Generating null hypothesis toys for POI('mean', value=1.2402564102564102).\n",
      "0 toys generated, fitted and scanned!\n",
      "40 toys generated, fitted and scanned!\n",
      "80 toys generated, fitted and scanned!\n",
      "120 toys generated, fitted and scanned!\n",
      "160 toys generated, fitted and scanned!\n",
      "Generating null hypothesis toys for POI('mean', value=1.243076923076923).\n",
      "0 toys generated, fitted and scanned!\n",
      "40 toys generated, fitted and scanned!\n",
      "80 toys generated, fitted and scanned!\n",
      "120 toys generated, fitted and scanned!\n",
      "160 toys generated, fitted and scanned!\n",
      "Generating null hypothesis toys for POI('mean', value=1.245897435897436).\n",
      "0 toys generated, fitted and scanned!\n",
      "40 toys generated, fitted and scanned!\n",
      "80 toys generated, fitted and scanned!\n",
      "120 toys generated, fitted and scanned!\n",
      "160 toys generated, fitted and scanned!\n",
      "Generating null hypothesis toys for POI('mean', value=1.2487179487179487).\n",
      "0 toys generated, fitted and scanned!\n",
      "40 toys generated, fitted and scanned!\n",
      "80 toys generated, fitted and scanned!\n",
      "120 toys generated, fitted and scanned!\n",
      "160 toys generated, fitted and scanned!\n",
      "Generating null hypothesis toys for POI('mean', value=1.2515384615384615).\n",
      "0 toys generated, fitted and scanned!\n",
      "40 toys generated, fitted and scanned!\n",
      "80 toys generated, fitted and scanned!\n",
      "120 toys generated, fitted and scanned!\n",
      "160 toys generated, fitted and scanned!\n",
      "Generating null hypothesis toys for POI('mean', value=1.2543589743589743).\n",
      "0 toys generated, fitted and scanned!\n",
      "40 toys generated, fitted and scanned!\n",
      "80 toys generated, fitted and scanned!\n",
      "120 toys generated, fitted and scanned!\n",
      "160 toys generated, fitted and scanned!\n",
      "Generating null hypothesis toys for POI('mean', value=1.2571794871794872).\n",
      "0 toys generated, fitted and scanned!\n",
      "40 toys generated, fitted and scanned!\n",
      "80 toys generated, fitted and scanned!\n",
      "120 toys generated, fitted and scanned!\n",
      "160 toys generated, fitted and scanned!\n",
      "Generating null hypothesis toys for POI('mean', value=1.26).\n",
      "0 toys generated, fitted and scanned!\n",
      "40 toys generated, fitted and scanned!\n",
      "80 toys generated, fitted and scanned!\n",
      "120 toys generated, fitted and scanned!\n",
      "160 toys generated, fitted and scanned!\n",
      "\n",
      "Confidence interval on mean:\n",
      "\t1.1820023579737926 < mean < 1.2147191527715901 at 68.0% C.L.\n"
     ]
    }
   ],
   "source": [
    "ci.interval();"
   ]
  },
  {
   "cell_type": "code",
   "execution_count": 15,
   "metadata": {},
   "outputs": [
    {
     "data": {
      "text/plain": [
       "Text(0.5, 0, 'mean')"
      ]
     },
     "execution_count": 15,
     "metadata": {},
     "output_type": "execute_result"
    },
    {
     "data": {
      "image/png": "[encoded data removed]",
      "text/plain": [
       "<Figure size 432x288 with 1 Axes>"
      ]
     },
     "metadata": {
      "needs_background": "light"
     },
     "output_type": "display_data"
    }
   ],
   "source": [
    "ax = one_minus_cl_plot(poinull.values, ci.pvalues())\n",
    "ax.set_xlabel(\"mean\")"
   ]
  },
  {
   "cell_type": "code",
   "execution_count": null,
   "metadata": {},
   "outputs": [],
   "source": []
  }
 ],
 "metadata": {
  "kernelspec": {
   "display_name": "Python 3",
   "language": "python",
   "name": "python3"
  },
  "language_info": {
   "codemirror_mode": {
    "name": "ipython",
    "version": 3
   },
   "file_extension": ".py",
   "mimetype": "text/x-python",
   "name": "python",
   "nbconvert_exporter": "python",
   "pygments_lexer": "ipython3",
   "version": "3.7.3"
  }
 },
 "nbformat": 4,
 "nbformat_minor": 4
}
