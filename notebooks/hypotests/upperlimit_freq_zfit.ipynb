{
 "cells": [
  {
   "cell_type": "markdown",
   "metadata": {},
   "source": [
    "# Example of upper limit computation."
   ]
  },
  {
   "cell_type": "code",
   "execution_count": 1,
   "metadata": {},
   "outputs": [
    {
     "name": "stderr",
     "output_type": "stream",
     "text": [
      "/Users/matthieumarinangeli/anaconda3/envs/tfn/lib/python3.7/site-packages/zfit-0.1.dev1243+g3358391.d20191114-py3.7.egg/zfit/util/execution.py:61: UserWarning: Not running on Linux. Determining available cpus for thread can failand be overestimated. Workaround (only if too many cpus are used):`zfit.run.set_n_cpu(your_cpu_number)`\n",
      "  warnings.warn(\"Not running on Linux. Determining available cpus for thread can fail\"\n"
     ]
    }
   ],
   "source": [
    "import numpy as np\n",
    "import matplotlib.pyplot as plt\n",
    "from utils import pltdist, plotfitresult, plotlimit\n",
    "\n",
    "import zfit\n",
    "from zfit.loss import ExtendedUnbinnedNLL\n",
    "from zfit.minimize import Minuit\n",
    "\n",
    "from skstats.hypotests.calculators import FrequentistCalculator\n",
    "from skstats.hypotests import UpperLimit\n",
    "from skstats.hypotests.parameters import POI, POIarray"
   ]
  },
  {
   "cell_type": "code",
   "execution_count": 2,
   "metadata": {},
   "outputs": [],
   "source": [
    "plt.rcParams['figure.figsize'] = (9,6)\n",
    "plt.rcParams['font.size'] = 16"
   ]
  },
  {
   "cell_type": "markdown",
   "metadata": {},
   "source": [
    "### Fit of a Gaussian signal over an exponential background:"
   ]
  },
  {
   "cell_type": "code",
   "execution_count": 3,
   "metadata": {},
   "outputs": [],
   "source": [
    "bounds = (0.1, 3.0)\n",
    "\n",
    "# Data and signal\n",
    "\n",
    "np.random.seed(0)\n",
    "tau = -2.0\n",
    "beta = -1/tau\n",
    "data = np.random.exponential(beta, 300)\n",
    "peak = np.random.normal(1.2, 0.1, 10)\n",
    "data = np.concatenate((data,peak))\n",
    "data = data[(data > bounds[0]) & (data < bounds[1])]"
   ]
  },
  {
   "cell_type": "code",
   "execution_count": 4,
   "metadata": {},
   "outputs": [
    {
     "data": {
      "image/png": "[encoded data removed]",
      "text/plain": [
       "<Figure size 648x432 with 1 Axes>"
      ]
     },
     "metadata": {
      "needs_background": "light"
     },
     "output_type": "display_data"
    }
   ],
   "source": [
    "pltdist(data, bins=80, bounds=bounds)"
   ]
  },
  {
   "cell_type": "code",
   "execution_count": 5,
   "metadata": {},
   "outputs": [],
   "source": [
    "obs = zfit.Space('x', limits=bounds)"
   ]
  },
  {
   "cell_type": "code",
   "execution_count": 6,
   "metadata": {},
   "outputs": [],
   "source": [
    "lambda_ = zfit.Parameter(\"lambda\",-2.0, -4.0, -1.0)\n",
    "Nsig = zfit.Parameter(\"Nsig\", 1., -20., len(data))\n",
    "Nbkg = zfit.Parameter(\"Nbkg\", len(data), 0., len(data)*1.1)"
   ]
  },
  {
   "cell_type": "code",
   "execution_count": 7,
   "metadata": {},
   "outputs": [],
   "source": [
    "signal = Nsig * zfit.pdf.Gauss(obs=obs, mu=1.2, sigma=0.1)\n",
    "background =  Nbkg * zfit.pdf.Exponential(obs=obs, lambda_=lambda_)\n",
    "tot_model = signal + background"
   ]
  },
  {
   "cell_type": "code",
   "execution_count": 8,
   "metadata": {},
   "outputs": [],
   "source": [
    "# Create the negative log likelihood\n",
    "data_ = zfit.data.Data.from_numpy(obs=obs, array=data)\n",
    "nll = ExtendedUnbinnedNLL(model=[tot_model], data=[data_]) "
   ]
  },
  {
   "cell_type": "code",
   "execution_count": 9,
   "metadata": {},
   "outputs": [],
   "source": [
    "# Instantiate a minuit minimizer\n",
    "minimizer = Minuit()"
   ]
  },
  {
   "cell_type": "code",
   "execution_count": 10,
   "metadata": {},
   "outputs": [
    {
     "name": "stdout",
     "output_type": "stream",
     "text": [
      "WARNING:tensorflow:From /Users/matthieumarinangeli/anaconda3/envs/tfn/lib/python3.7/site-packages/tensorflow/python/ops/array_ops.py:1354: add_dispatch_support.<locals>.wrapper (from tensorflow.python.ops.array_ops) is deprecated and will be removed in a future version.\n",
      "Instructions for updating:\n",
      "Use tf.where in 2.0, which has the same broadcast rule as np.where\n",
      "WARNING:tensorflow:From /Users/matthieumarinangeli/anaconda3/envs/tfn/lib/python3.7/site-packages/zfit-0.1.dev1243+g3358391.d20191114-py3.7.egg/zfit/core/parameter.py:465: Variable.load (from tensorflow.python.ops.variables) is deprecated and will be removed in a future version.\n",
      "Instructions for updating:\n",
      "Prefer Variable.assign which has equivalent behavior in 2.X.\n"
     ]
    },
    {
     "data": {
      "text/html": [
       "<hr>"
      ]
     },
     "metadata": {},
     "output_type": "display_data"
    },
    {
     "data": {
      "text/html": [
       "<table>\n",
       "    <tr>\n",
       "        <td title=\"Minimum value of function\">FCN = -1077.4737271489062</td>\n",
       "        <td title=\"Total number of call to FCN so far\">TOTAL NCALL = 66</td>\n",
       "        <td title=\"Number of call in last migrad\">NCALLS = 66</td>\n",
       "    </tr>\n",
       "    <tr>\n",
       "        <td title=\"Estimated distance to minimum\">EDM = 4.8784296721449974e-05</td>\n",
       "        <td title=\"Maximum EDM definition of convergence\">GOAL EDM = 5e-06</td>\n",
       "        <td title=\"Error def. Amount of increase in FCN to be defined as 1 standard deviation\">\n",
       "        UP = 0.5</td>\n",
       "    </tr>\n",
       "</table>\n",
       "<table>\n",
       "    <tr>\n",
       "        <td align=\"center\" title=\"Validity of the migrad call\">Valid</td>\n",
       "        <td align=\"center\" title=\"Validity of parameters\">Valid Param</td>\n",
       "        <td align=\"center\" title=\"Is Covariance matrix accurate?\">Accurate Covar</td>\n",
       "        <td align=\"center\" title=\"Positive definiteness of covariance matrix\">PosDef</td>\n",
       "        <td align=\"center\" title=\"Was covariance matrix made posdef by adding diagonal element\">Made PosDef</td>\n",
       "    </tr>\n",
       "    <tr>\n",
       "        <td align=\"center\" style=\"background-color:#92CCA6\">True</td>\n",
       "        <td align=\"center\" style=\"background-color:#92CCA6\">True</td>\n",
       "        <td align=\"center\" style=\"background-color:#92CCA6\">True</td>\n",
       "        <td align=\"center\" style=\"background-color:#92CCA6\">True</td>\n",
       "        <td align=\"center\" style=\"background-color:#92CCA6\">False</td>\n",
       "    </tr>\n",
       "    <tr>\n",
       "        <td align=\"center\" title=\"Was last hesse call fail?\">Hesse Fail</td>\n",
       "        <td align=\"center\" title=\"Validity of covariance\">HasCov</td>\n",
       "        <td align=\"center\" title=\"Is EDM above goal EDM?\">Above EDM</td>\n",
       "        <td align=\"center\"></td>\n",
       "        <td align=\"center\" title=\"Did last migrad call reach max call limit?\">Reach calllim</td>\n",
       "    </tr>\n",
       "    <tr>\n",
       "        <td align=\"center\" style=\"background-color:#92CCA6\">False</td>\n",
       "        <td align=\"center\" style=\"background-color:#92CCA6\">True</td>\n",
       "        <td align=\"center\" style=\"background-color:#92CCA6\">False</td>\n",
       "        <td align=\"center\"></td>\n",
       "        <td align=\"center\" style=\"background-color:#92CCA6\">False</td>\n",
       "    </tr>\n",
       "</table>"
      ]
     },
     "metadata": {},
     "output_type": "display_data"
    },
    {
     "data": {
      "text/html": [
       "<table>\n",
       "    <tr>\n",
       "        <td><a href=\"#\" onclick=\"$('#RHjEcdMCTp').toggle()\">+</a></td>\n",
       "        <td title=\"Variable name\">Name</td>\n",
       "        <td title=\"Value of parameter\">Value</td>\n",
       "        <td title=\"Hesse error\">Hesse Error</td>\n",
       "        <td title=\"Minos lower error\">Minos Error-</td>\n",
       "        <td title=\"Minos upper error\">Minos Error+</td>\n",
       "        <td title=\"Lower limit of the parameter\">Limit-</td>\n",
       "        <td title=\"Upper limit of the parameter\">Limit+</td>\n",
       "        <td title=\"Is the parameter fixed in the fit\">Fixed?</td>\n",
       "    </tr>\n",
       "    <tr>\n",
       "        <td>0</td>\n",
       "        <td>Nbkg</td>\n",
       "        <td>251.591</td>\n",
       "        <td>16.6534</td>\n",
       "        <td></td>\n",
       "        <td></td>\n",
       "        <td>0</td>\n",
       "        <td>281.6</td>\n",
       "        <td>No</td>\n",
       "    </tr>\n",
       "    <tr>\n",
       "        <td>1</td>\n",
       "        <td>Nsig</td>\n",
       "        <td>4.51778</td>\n",
       "        <td>5.75076</td>\n",
       "        <td></td>\n",
       "        <td></td>\n",
       "        <td>-20</td>\n",
       "        <td>256</td>\n",
       "        <td>No</td>\n",
       "    </tr>\n",
       "    <tr>\n",
       "        <td>2</td>\n",
       "        <td>lambda</td>\n",
       "        <td>-1.93036</td>\n",
       "        <td>0.139642</td>\n",
       "        <td></td>\n",
       "        <td></td>\n",
       "        <td>-4</td>\n",
       "        <td>-1</td>\n",
       "        <td>No</td>\n",
       "    </tr>\n",
       "</table>\n",
       "<pre id=\"RHjEcdMCTp\" style=\"display:none;\">\n",
       "<textarea rows=\"12\" cols=\"50\" onclick=\"this.select()\" readonly>\n",
       "\\begin{tabular}{|c|r|r|r|r|r|r|r|c|}\n",
       "\\hline\n",
       " & Name & Value & Hesse Error & Minos Error- & Minos Error+ & Limit- & Limit+ & Fixed?\\\\\n",
       "\\hline\n",
       "0 & Nbkg & 251.591 & 16.6534 &  &  & 0.0 & 281.6 & No\\\\\n",
       "\\hline\n",
       "1 & Nsig & 4.51778 & 5.75076 &  &  & -20.0 & 256 & No\\\\\n",
       "\\hline\n",
       "2 & $\\lambda$ & -1.93036 & 0.139642 &  &  & -4.0 & -1 & No\\\\\n",
       "\\hline\n",
       "\\end{tabular}\n",
       "</textarea>\n",
       "</pre>"
      ]
     },
     "metadata": {},
     "output_type": "display_data"
    },
    {
     "data": {
      "text/html": [
       "<hr>"
      ]
     },
     "metadata": {},
     "output_type": "display_data"
    }
   ],
   "source": [
    "# minimisation of the loss function\n",
    "minimum = minimizer.minimize(loss=nll)"
   ]
  },
  {
   "cell_type": "code",
   "execution_count": 11,
   "metadata": {},
   "outputs": [
    {
     "data": {
      "text/plain": [
       "Text(0, 0.5, 'number of events')"
      ]
     },
     "execution_count": 11,
     "metadata": {},
     "output_type": "execute_result"
    },
    {
     "data": {
      "image/png": "[encoded data removed]",
      "text/plain": [
       "<Figure size 648x432 with 1 Axes>"
      ]
     },
     "metadata": {
      "needs_background": "light"
     },
     "output_type": "display_data"
    }
   ],
   "source": [
    "nbins = 80\n",
    "pltdist(data, nbins, bounds)\n",
    "plotfitresult(tot_model, bounds, nbins, data)\n",
    "plt.xlabel(\"m [GeV/c$^2$]\")\n",
    "plt.ylabel(\"number of events\")"
   ]
  },
  {
   "cell_type": "markdown",
   "metadata": {},
   "source": [
    "### Upper limit:\n",
    "\n",
    "Since the signal yield Nsig = $4.5 \\pm 5.8$  is consistent with zero signal we compute the CLs upper limit at 95% confidence level on Nsig."
   ]
  },
  {
   "cell_type": "code",
   "execution_count": 12,
   "metadata": {},
   "outputs": [],
   "source": [
    "# instantation of the calculator\n",
    "calculator = FrequentistCalculator(nll, minimizer, ntoysnull=5000, ntoysalt=5000)\n",
    "calculator.bestfit = minimum #optionnal"
   ]
  },
  {
   "cell_type": "code",
   "execution_count": 13,
   "metadata": {},
   "outputs": [],
   "source": [
    "# parameter of interest of the null hypothesis\n",
    "poinull = POIarray(Nsig, np.linspace(0.0, 25, 15))\n",
    "# parameter of interest of the alternative hypothesis\n",
    "poialt = POI(Nsig, 0)"
   ]
  },
  {
   "cell_type": "code",
   "execution_count": 14,
   "metadata": {},
   "outputs": [],
   "source": [
    "# instantation of the discovery test\n",
    "ul = UpperLimit(calculator, poinull, poialt)"
   ]
  },
  {
   "cell_type": "markdown",
   "metadata": {},
   "source": [
    "The generation of the toys takes a very long time!"
   ]
  },
  {
   "cell_type": "code",
   "execution_count": 15,
   "metadata": {},
   "outputs": [
    {
     "name": "stdout",
     "output_type": "stream",
     "text": [
      "Generating null hypothesis toys for POI('Nsig', value=0.0).\n",
      "0 toys generated, fitted and scanned!\n",
      "1000 toys generated, fitted and scanned!\n",
      "2000 toys generated, fitted and scanned!\n",
      "3000 toys generated, fitted and scanned!\n",
      "4000 toys generated, fitted and scanned!\n",
      "Generating null hypothesis toys for POI('Nsig', value=1.7857142857142858).\n",
      "0 toys generated, fitted and scanned!\n",
      "1000 toys generated, fitted and scanned!\n",
      "2000 toys generated, fitted and scanned!\n",
      "3000 toys generated, fitted and scanned!\n",
      "4000 toys generated, fitted and scanned!\n",
      "Generating null hypothesis toys for POI('Nsig', value=3.5714285714285716).\n",
      "0 toys generated, fitted and scanned!\n",
      "1000 toys generated, fitted and scanned!\n",
      "2000 toys generated, fitted and scanned!\n",
      "3000 toys generated, fitted and scanned!\n",
      "4000 toys generated, fitted and scanned!\n",
      "Generating null hypothesis toys for POI('Nsig', value=5.357142857142858).\n",
      "0 toys generated, fitted and scanned!\n",
      "1000 toys generated, fitted and scanned!\n",
      "2000 toys generated, fitted and scanned!\n",
      "3000 toys generated, fitted and scanned!\n",
      "4000 toys generated, fitted and scanned!\n",
      "Generating null hypothesis toys for POI('Nsig', value=7.142857142857143).\n",
      "0 toys generated, fitted and scanned!\n",
      "1000 toys generated, fitted and scanned!\n",
      "2000 toys generated, fitted and scanned!\n",
      "3000 toys generated, fitted and scanned!\n",
      "4000 toys generated, fitted and scanned!\n",
      "Generating null hypothesis toys for POI('Nsig', value=8.928571428571429).\n",
      "0 toys generated, fitted and scanned!\n",
      "1000 toys generated, fitted and scanned!\n",
      "2000 toys generated, fitted and scanned!\n",
      "3000 toys generated, fitted and scanned!\n",
      "4000 toys generated, fitted and scanned!\n",
      "Generating null hypothesis toys for POI('Nsig', value=10.714285714285715).\n",
      "0 toys generated, fitted and scanned!\n",
      "1000 toys generated, fitted and scanned!\n",
      "2000 toys generated, fitted and scanned!\n",
      "3000 toys generated, fitted and scanned!\n",
      "4000 toys generated, fitted and scanned!\n",
      "Generating null hypothesis toys for POI('Nsig', value=12.5).\n",
      "0 toys generated, fitted and scanned!\n",
      "1000 toys generated, fitted and scanned!\n",
      "2000 toys generated, fitted and scanned!\n",
      "3000 toys generated, fitted and scanned!\n",
      "4000 toys generated, fitted and scanned!\n",
      "Generating null hypothesis toys for POI('Nsig', value=14.285714285714286).\n",
      "0 toys generated, fitted and scanned!\n",
      "1000 toys generated, fitted and scanned!\n",
      "2000 toys generated, fitted and scanned!\n",
      "3000 toys generated, fitted and scanned!\n",
      "4000 toys generated, fitted and scanned!\n",
      "Generating null hypothesis toys for POI('Nsig', value=16.071428571428573).\n",
      "0 toys generated, fitted and scanned!\n",
      "1000 toys generated, fitted and scanned!\n",
      "2000 toys generated, fitted and scanned!\n",
      "3000 toys generated, fitted and scanned!\n",
      "4000 toys generated, fitted and scanned!\n",
      "Generating null hypothesis toys for POI('Nsig', value=17.857142857142858).\n",
      "0 toys generated, fitted and scanned!\n",
      "1000 toys generated, fitted and scanned!\n",
      "2000 toys generated, fitted and scanned!\n",
      "3000 toys generated, fitted and scanned!\n",
      "4000 toys generated, fitted and scanned!\n",
      "Generating null hypothesis toys for POI('Nsig', value=19.642857142857142).\n",
      "0 toys generated, fitted and scanned!\n",
      "1000 toys generated, fitted and scanned!\n",
      "2000 toys generated, fitted and scanned!\n",
      "3000 toys generated, fitted and scanned!\n",
      "4000 toys generated, fitted and scanned!\n",
      "Generating null hypothesis toys for POI('Nsig', value=21.42857142857143).\n",
      "0 toys generated, fitted and scanned!\n",
      "1000 toys generated, fitted and scanned!\n",
      "2000 toys generated, fitted and scanned!\n",
      "3000 toys generated, fitted and scanned!\n",
      "4000 toys generated, fitted and scanned!\n",
      "Generating null hypothesis toys for POI('Nsig', value=23.214285714285715).\n",
      "0 toys generated, fitted and scanned!\n",
      "1000 toys generated, fitted and scanned!\n",
      "2000 toys generated, fitted and scanned!\n",
      "3000 toys generated, fitted and scanned!\n",
      "4000 toys generated, fitted and scanned!\n",
      "Generating null hypothesis toys for POI('Nsig', value=25.0).\n",
      "0 toys generated, fitted and scanned!\n",
      "1000 toys generated, fitted and scanned!\n",
      "2000 toys generated, fitted and scanned!\n",
      "3000 toys generated, fitted and scanned!\n",
      "4000 toys generated, fitted and scanned!\n",
      "Generating alternative hypothesis toys for POI('Nsig', value=0).\n",
      "0 toys generated, fitted and scanned!\n",
      "1000 toys generated, fitted and scanned!\n",
      "2000 toys generated, fitted and scanned!\n",
      "3000 toys generated, fitted and scanned!\n",
      "4000 toys generated, fitted and scanned!\n",
      "\n",
      "Observed upper limit: Nsig = 15.580210236747005\n",
      "Expected upper limit: Nsig = 11.238577386782184\n",
      "Expected upper limit +1 sigma: Nsig = 16.16922095187753\n",
      "Expected upper limit -1 sigma: Nsig = 7.905728767147962\n",
      "Expected upper limit +2 sigma: Nsig = 21.610098826152996\n",
      "Expected upper limit -2 sigma: Nsig = 6.071856995102552\n"
     ]
    }
   ],
   "source": [
    "ul.upperlimit(alpha=0.05, CLs=True);"
   ]
  },
  {
   "cell_type": "code",
   "execution_count": 16,
   "metadata": {},
   "outputs": [
    {
     "data": {
      "image/png": "[encoded data removed]",
      "text/plain": [
       "<Figure size 648x432 with 1 Axes>"
      ]
     },
     "metadata": {
      "needs_background": "light"
     },
     "output_type": "display_data"
    }
   ],
   "source": [
    "ax = plotlimit(poinull.values, ul.pvalues(CLs=True), alpha=0.05, CLs=True)\n",
    "ax.set_xlabel(\"Nsig\");"
   ]
  },
  {
   "cell_type": "code",
   "execution_count": null,
   "metadata": {},
   "outputs": [],
   "source": []
  }
 ],
 "metadata": {
  "kernelspec": {
   "display_name": "Python 3",
   "language": "python",
   "name": "python3"
  },
  "language_info": {
   "codemirror_mode": {
    "name": "ipython",
    "version": 3
   },
   "file_extension": ".py",
   "mimetype": "text/x-python",
   "name": "python",
   "nbconvert_exporter": "python",
   "pygments_lexer": "ipython3",
   "version": "3.7.3"
  }
 },
 "nbformat": 4,
 "nbformat_minor": 4
}
