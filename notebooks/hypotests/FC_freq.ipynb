{
 "cells": [
  {
   "cell_type": "markdown",
   "metadata": {},
   "source": [
    "# Example of confidence interval computation"
   ]
  },
  {
   "cell_type": "code",
   "execution_count": 1,
   "metadata": {},
   "outputs": [
    {
     "name": "stderr",
     "output_type": "stream",
     "text": [
      "/Users/matthieumarinangeli/anaconda3/envs/tfn2/lib/python3.7/site-packages/zfit-0.0.0-py3.7.egg/zfit/util/execution.py:70: UserWarning: Not running on Linux. Determining available cpus for thread can failand be overestimated. Workaround (only if too many cpus are used):`zfit.run.set_n_cpu(your_cpu_number)`\n",
      "  warnings.warn(\"Not running on Linux. Determining available cpus for thread can fail\"\n"
     ]
    }
   ],
   "source": [
    "import numpy as np\n",
    "import matplotlib.pyplot as plt\n",
    "\n",
    "import zfit\n",
    "from zfit.loss import UnbinnedNLL\n",
    "from zfit.minimize import Minuit\n",
    "\n",
    "from hepstats.hypotests.calculators import FrequentistCalculator, AsymptoticCalculator\n",
    "from hepstats.hypotests import ConfidenceInterval\n",
    "from hepstats.hypotests.parameters import POIarray\n",
    "\n",
    "from utils import one_minus_cl_plot, pltdist, plotfitresult"
   ]
  },
  {
   "cell_type": "code",
   "execution_count": 2,
   "metadata": {},
   "outputs": [],
   "source": [
    "zfit.settings.set_seed(10)"
   ]
  },
  {
   "cell_type": "markdown",
   "metadata": {},
   "source": [
    "### Fit of a Gaussian signal over an exponential background:"
   ]
  },
  {
   "cell_type": "code",
   "execution_count": 3,
   "metadata": {},
   "outputs": [
    {
     "data": {
      "image/png": "[encoded data removed]",
      "text/plain": [
       "<Figure size 432x288 with 1 Axes>"
      ]
     },
     "metadata": {
      "needs_background": "light"
     },
     "output_type": "display_data"
    }
   ],
   "source": [
    "bounds = (-3, 3)\n",
    "\n",
    "obs = zfit.Space('x', limits=bounds)\n",
    "\n",
    "mean = zfit.Parameter(\"mean\", 0.2, -5, 5)\n",
    "sigma = zfit.Parameter(\"sigma\", 1.0)\n",
    "model = zfit.pdf.Gauss(obs=obs, mu=mean, sigma=sigma)\n",
    "\n",
    "data = model.sample(100)\n",
    "plt.hist(data.numpy(), bins=100, histtype='step');"
   ]
  },
  {
   "cell_type": "code",
   "execution_count": 4,
   "metadata": {},
   "outputs": [],
   "source": [
    "# Create the negative log likelihood\n",
    "nll = UnbinnedNLL(model=model, data=data) "
   ]
  },
  {
   "cell_type": "code",
   "execution_count": 5,
   "metadata": {},
   "outputs": [],
   "source": [
    "# Instantiate a minuit minimizer\n",
    "minimizer = Minuit()"
   ]
  },
  {
   "cell_type": "code",
   "execution_count": 6,
   "metadata": {},
   "outputs": [
    {
     "name": "stdout",
     "output_type": "stream",
     "text": [
      "------------------------------------------------------------------\n",
      "| FCN = 138.9                   |      Ncalls=29 (29 total)      |\n",
      "| EDM = 4.68E-08 (Goal: 5E-05)  |            up = 0.5            |\n",
      "------------------------------------------------------------------\n",
      "|  Valid Min.   | Valid Param.  | Above EDM | Reached call limit |\n",
      "------------------------------------------------------------------\n",
      "|     True      |     True      |   False   |       False        |\n",
      "------------------------------------------------------------------\n",
      "| Hesse failed  |   Has cov.    | Accurate  | Pos. def. | Forced |\n",
      "------------------------------------------------------------------\n",
      "|     False     |     True      |   True    |   True    | False  |\n",
      "------------------------------------------------------------------\n",
      "FitResult of\n",
      "<UnbinnedNLL model=[<zfit.Gauss  params=[mean, sigma] dtype=float64>0] data=[<zfit.core.data.SampleData object at 0x7f96580f8710>] constraints=[]> \n",
      "with\n",
      "<Minuit strategy=PushbackStrategy tolerance=0.001>\n",
      "\n",
      "╒═════════╤═════════════╤══════════════════╤═════════╤═════════════╕\n",
      "│ valid   │ converged   │ param at limit   │ edm     │ min value   │\n",
      "╞═════════╪═════════════╪══════════════════╪═════════╪═════════════╡\n",
      "│ True    │ True        │ False            │ 4.7e-08 │ 138.9       │\n",
      "╘═════════╧═════════════╧══════════════════╧═════════╧═════════════╛\n",
      "\n",
      "Parameters\n",
      "name      value    minuit_hesse    at limit\n",
      "------  -------  --------------  ----------\n",
      "mean     0.1368     +/-   0.099       False\n",
      "sigma    0.9848     +/-   0.074       False\n"
     ]
    }
   ],
   "source": [
    "# minimisation of the loss function\n",
    "minimum = minimizer.minimize(loss=nll)\n",
    "minimum.hesse();\n",
    "print(minimum)"
   ]
  },
  {
   "cell_type": "code",
   "execution_count": 7,
   "metadata": {},
   "outputs": [
    {
     "data": {
      "text/plain": [
       "Text(0, 0.5, 'number of events')"
      ]
     },
     "execution_count": 7,
     "metadata": {},
     "output_type": "execute_result"
    },
    {
     "data": {
      "image/png": "[encoded data removed]",
      "text/plain": [
       "<Figure size 432x288 with 1 Axes>"
      ]
     },
     "metadata": {
      "needs_background": "light"
     },
     "output_type": "display_data"
    }
   ],
   "source": [
    "nbins = 80\n",
    "plt.hist(data.numpy(), bins=nbins, histtype='step', density=True);\n",
    "plotfitresult(model, bounds, nbins)\n",
    "plt.xlabel(\"m [GeV/c$^2$]\")\n",
    "plt.ylabel(\"number of events\")"
   ]
  },
  {
   "cell_type": "markdown",
   "metadata": {},
   "source": [
    "### Confidence interval\n",
    "\n",
    "We want to compute the confidence interval of the mean of the Gaussian at 68% confidence level."
   ]
  },
  {
   "cell_type": "code",
   "execution_count": 8,
   "metadata": {},
   "outputs": [],
   "source": [
    "# Create the negative log likelihood\n",
    "\n",
    "# instantation of the calculator\n",
    "#calculator = FrequentistCalculator(nll, minimizer, ntoysnull=200)\n",
    "calculator = FrequentistCalculator.from_yaml(\"FD_toys.yml\", nll, minimizer, ntoysnull=200)\n",
    "#calculator = AsymptoticCalculator(nll, minimizer)\n",
    "calculator.bestfit = minimum #optionnal"
   ]
  },
  {
   "cell_type": "code",
   "execution_count": 9,
   "metadata": {},
   "outputs": [],
   "source": [
    "# parameter of interest of the null hypothesis\n",
    "poinull = POIarray(mean, np.linspace(-0.5, 0.5, 50))"
   ]
  },
  {
   "cell_type": "code",
   "execution_count": 10,
   "metadata": {},
   "outputs": [],
   "source": [
    "from scipy.stats import norm"
   ]
  },
  {
   "cell_type": "code",
   "execution_count": 11,
   "metadata": {},
   "outputs": [
    {
     "data": {
      "text/plain": [
       "[<matplotlib.lines.Line2D at 0x7f9639c72a50>]"
      ]
     },
     "execution_count": 11,
     "metadata": {},
     "output_type": "execute_result"
    },
    {
     "data": {
      "image/png": "[encoded data removed]",
      "text/plain": [
       "<Figure size 432x288 with 1 Axes>"
      ]
     },
     "metadata": {
      "needs_background": "light"
     },
     "output_type": "display_data"
    }
   ],
   "source": [
    "plt.plot(poinull.values, calculator.obs_nll(poinull))"
   ]
  },
  {
   "cell_type": "code",
   "execution_count": 12,
   "metadata": {},
   "outputs": [
    {
     "data": {
      "text/plain": [
       "[<matplotlib.lines.Line2D at 0x7f96384439d0>]"
      ]
     },
     "execution_count": 12,
     "metadata": {},
     "output_type": "execute_result"
    },
    {
     "data": {
      "image/png": "[encoded data removed]",
      "text/plain": [
       "<Figure size 432x288 with 1 Axes>"
      ]
     },
     "metadata": {
      "needs_background": "light"
     },
     "output_type": "display_data"
    }
   ],
   "source": [
    "plt.plot(poinull.values, calculator.qobs(poinull, onesided=False), \".--\")"
   ]
  },
  {
   "cell_type": "code",
   "execution_count": 13,
   "metadata": {},
   "outputs": [
    {
     "data": {
      "text/plain": [
       "[<matplotlib.lines.Line2D at 0x7f9639cd16d0>]"
      ]
     },
     "execution_count": 13,
     "metadata": {},
     "output_type": "execute_result"
    },
    {
     "data": {
      "image/png": "[encoded data removed]",
      "text/plain": [
       "<Figure size 432x288 with 1 Axes>"
      ]
     },
     "metadata": {
      "needs_background": "light"
     },
     "output_type": "display_data"
    }
   ],
   "source": [
    "plt.plot(poinull.values, calculator.qobs(poinull, onesided=False)**0.5, \".--\")"
   ]
  },
  {
   "cell_type": "code",
   "execution_count": 14,
   "metadata": {},
   "outputs": [
    {
     "data": {
      "text/plain": [
       "[<matplotlib.lines.Line2D at 0x7f9639d3ad50>]"
      ]
     },
     "execution_count": 14,
     "metadata": {},
     "output_type": "execute_result"
    },
    {
     "data": {
      "image/png": "[encoded data removed]",
      "text/plain": [
       "<Figure size 432x288 with 1 Axes>"
      ]
     },
     "metadata": {
      "needs_background": "light"
     },
     "output_type": "display_data"
    }
   ],
   "source": [
    "plt.plot(poinull.values, calculator.pvalue(poinull, onesided=False)[0], \".--\")"
   ]
  },
  {
   "cell_type": "code",
   "execution_count": 15,
   "metadata": {},
   "outputs": [],
   "source": [
    "# instantation of the discovery test\n",
    "ci = ConfidenceInterval(calculator, poinull, qtilde=False)"
   ]
  },
  {
   "cell_type": "code",
   "execution_count": 16,
   "metadata": {},
   "outputs": [
    {
     "name": "stdout",
     "output_type": "stream",
     "text": [
      "\n",
      "Confidence interval on mean:\n",
      "\t0.04383557993671548 < mean < 0.23923047453083604 at 68.0% C.L.\n"
     ]
    }
   ],
   "source": [
    "ci.interval();"
   ]
  },
  {
   "cell_type": "code",
   "execution_count": 17,
   "metadata": {},
   "outputs": [
    {
     "data": {
      "text/plain": [
       "Text(0.5, 0, 'mean')"
      ]
     },
     "execution_count": 17,
     "metadata": {},
     "output_type": "execute_result"
    },
    {
     "data": {
      "image/png": "[encoded data removed]",
      "text/plain": [
       "<Figure size 648x576 with 1 Axes>"
      ]
     },
     "metadata": {
      "needs_background": "light"
     },
     "output_type": "display_data"
    }
   ],
   "source": [
    "f = plt.figure(figsize=(9, 8))\n",
    "one_minus_cl_plot(poinull.values, ci.pvalues())\n",
    "plt.xlabel(\"mean\")"
   ]
  },
  {
   "cell_type": "code",
   "execution_count": null,
   "metadata": {},
   "outputs": [],
   "source": []
  },
  {
   "cell_type": "code",
   "execution_count": 18,
   "metadata": {},
   "outputs": [],
   "source": [
    "calculator.to_yaml(\"FD_toys.yml\")"
   ]
  },
  {
   "cell_type": "code",
   "execution_count": 26,
   "metadata": {},
   "outputs": [
    {
     "data": {
      "text/plain": [
       "POI('mean', value=0.010204081632653073)"
      ]
     },
     "execution_count": 26,
     "metadata": {},
     "output_type": "execute_result"
    }
   ],
   "source": [
    "poinull[25]"
   ]
  },
  {
   "cell_type": "code",
   "execution_count": null,
   "metadata": {},
   "outputs": [
    {
     "name": "stdout",
     "output_type": "stream",
     "text": [
      "Generating null hypothesis toys for POI('mean', value=-0.5).\n",
      "0 toys generated, fitted and scanned!\n",
      "40 toys generated, fitted and scanned!\n",
      "80 toys generated, fitted and scanned!\n",
      "120 toys generated, fitted and scanned!\n",
      "160 toys generated, fitted and scanned!\n",
      "Generating null hypothesis toys for POI('mean', value=-0.47959183673469385).\n",
      "0 toys generated, fitted and scanned!\n",
      "40 toys generated, fitted and scanned!\n",
      "80 toys generated, fitted and scanned!\n",
      "120 toys generated, fitted and scanned!\n",
      "160 toys generated, fitted and scanned!\n",
      "Generating null hypothesis toys for POI('mean', value=-0.45918367346938777).\n",
      "0 toys generated, fitted and scanned!\n",
      "40 toys generated, fitted and scanned!\n",
      "80 toys generated, fitted and scanned!\n",
      "120 toys generated, fitted and scanned!\n",
      "160 toys generated, fitted and scanned!\n",
      "Generating null hypothesis toys for POI('mean', value=-0.4387755102040816).\n",
      "0 toys generated, fitted and scanned!\n",
      "40 toys generated, fitted and scanned!\n",
      "80 toys generated, fitted and scanned!\n",
      "120 toys generated, fitted and scanned!\n",
      "160 toys generated, fitted and scanned!\n",
      "Generating null hypothesis toys for POI('mean', value=-0.41836734693877553).\n",
      "0 toys generated, fitted and scanned!\n",
      "40 toys generated, fitted and scanned!\n",
      "80 toys generated, fitted and scanned!\n",
      "120 toys generated, fitted and scanned!\n",
      "160 toys generated, fitted and scanned!\n",
      "Generating null hypothesis toys for POI('mean', value=-0.3979591836734694).\n",
      "0 toys generated, fitted and scanned!\n",
      "40 toys generated, fitted and scanned!\n",
      "80 toys generated, fitted and scanned!\n",
      "120 toys generated, fitted and scanned!\n",
      "160 toys generated, fitted and scanned!\n",
      "Generating null hypothesis toys for POI('mean', value=-0.37755102040816324).\n",
      "0 toys generated, fitted and scanned!\n",
      "40 toys generated, fitted and scanned!\n",
      "80 toys generated, fitted and scanned!\n",
      "120 toys generated, fitted and scanned!\n",
      "160 toys generated, fitted and scanned!\n",
      "Generating null hypothesis toys for POI('mean', value=-0.35714285714285715).\n",
      "0 toys generated, fitted and scanned!\n",
      "40 toys generated, fitted and scanned!\n",
      "80 toys generated, fitted and scanned!\n",
      "120 toys generated, fitted and scanned!\n",
      "160 toys generated, fitted and scanned!\n",
      "Generating null hypothesis toys for POI('mean', value=-0.33673469387755106).\n",
      "0 toys generated, fitted and scanned!\n",
      "40 toys generated, fitted and scanned!\n",
      "80 toys generated, fitted and scanned!\n",
      "120 toys generated, fitted and scanned!\n",
      "160 toys generated, fitted and scanned!\n",
      "Generating null hypothesis toys for POI('mean', value=-0.3163265306122449).\n",
      "0 toys generated, fitted and scanned!\n",
      "40 toys generated, fitted and scanned!\n",
      "80 toys generated, fitted and scanned!\n",
      "120 toys generated, fitted and scanned!\n",
      "160 toys generated, fitted and scanned!\n",
      "Generating null hypothesis toys for POI('mean', value=-0.29591836734693877).\n",
      "0 toys generated, fitted and scanned!\n",
      "40 toys generated, fitted and scanned!\n",
      "80 toys generated, fitted and scanned!\n",
      "120 toys generated, fitted and scanned!\n",
      "160 toys generated, fitted and scanned!\n",
      "Generating null hypothesis toys for POI('mean', value=-0.2755102040816327).\n",
      "0 toys generated, fitted and scanned!\n",
      "40 toys generated, fitted and scanned!\n",
      "80 toys generated, fitted and scanned!\n",
      "120 toys generated, fitted and scanned!\n",
      "160 toys generated, fitted and scanned!\n",
      "Generating null hypothesis toys for POI('mean', value=-0.25510204081632654).\n",
      "0 toys generated, fitted and scanned!\n",
      "40 toys generated, fitted and scanned!\n",
      "80 toys generated, fitted and scanned!\n",
      "120 toys generated, fitted and scanned!\n",
      "160 toys generated, fitted and scanned!\n",
      "Generating null hypothesis toys for POI('mean', value=-0.23469387755102045).\n",
      "0 toys generated, fitted and scanned!\n",
      "40 toys generated, fitted and scanned!\n",
      "80 toys generated, fitted and scanned!\n",
      "120 toys generated, fitted and scanned!\n",
      "160 toys generated, fitted and scanned!\n",
      "Generating null hypothesis toys for POI('mean', value=-0.2142857142857143).\n",
      "0 toys generated, fitted and scanned!\n",
      "40 toys generated, fitted and scanned!\n",
      "80 toys generated, fitted and scanned!\n",
      "120 toys generated, fitted and scanned!\n",
      "160 toys generated, fitted and scanned!\n",
      "Generating null hypothesis toys for POI('mean', value=-0.1938775510204082).\n",
      "0 toys generated, fitted and scanned!\n",
      "40 toys generated, fitted and scanned!\n",
      "80 toys generated, fitted and scanned!\n",
      "120 toys generated, fitted and scanned!\n",
      "160 toys generated, fitted and scanned!\n",
      "Generating null hypothesis toys for POI('mean', value=-0.17346938775510207).\n",
      "0 toys generated, fitted and scanned!\n",
      "40 toys generated, fitted and scanned!\n",
      "80 toys generated, fitted and scanned!\n",
      "120 toys generated, fitted and scanned!\n",
      "160 toys generated, fitted and scanned!\n",
      "Generating null hypothesis toys for POI('mean', value=-0.15306122448979592).\n",
      "0 toys generated, fitted and scanned!\n",
      "40 toys generated, fitted and scanned!\n",
      "80 toys generated, fitted and scanned!\n",
      "120 toys generated, fitted and scanned!\n",
      "160 toys generated, fitted and scanned!\n",
      "Generating null hypothesis toys for POI('mean', value=-0.13265306122448983).\n",
      "0 toys generated, fitted and scanned!\n",
      "40 toys generated, fitted and scanned!\n",
      "80 toys generated, fitted and scanned!\n",
      "120 toys generated, fitted and scanned!\n",
      "160 toys generated, fitted and scanned!\n",
      "Generating null hypothesis toys for POI('mean', value=-0.11224489795918369).\n",
      "0 toys generated, fitted and scanned!\n",
      "40 toys generated, fitted and scanned!\n",
      "80 toys generated, fitted and scanned!\n",
      "120 toys generated, fitted and scanned!\n",
      "160 toys generated, fitted and scanned!\n",
      "Generating null hypothesis toys for POI('mean', value=-0.0918367346938776).\n",
      "0 toys generated, fitted and scanned!\n",
      "40 toys generated, fitted and scanned!\n",
      "80 toys generated, fitted and scanned!\n",
      "120 toys generated, fitted and scanned!\n",
      "160 toys generated, fitted and scanned!\n",
      "Generating null hypothesis toys for POI('mean', value=-0.07142857142857145).\n",
      "0 toys generated, fitted and scanned!\n",
      "40 toys generated, fitted and scanned!\n",
      "80 toys generated, fitted and scanned!\n",
      "120 toys generated, fitted and scanned!\n",
      "160 toys generated, fitted and scanned!\n",
      "Generating null hypothesis toys for POI('mean', value=-0.05102040816326536).\n",
      "0 toys generated, fitted and scanned!\n",
      "40 toys generated, fitted and scanned!\n",
      "80 toys generated, fitted and scanned!\n",
      "120 toys generated, fitted and scanned!\n",
      "160 toys generated, fitted and scanned!\n",
      "Generating null hypothesis toys for POI('mean', value=-0.030612244897959218).\n",
      "0 toys generated, fitted and scanned!\n",
      "40 toys generated, fitted and scanned!\n",
      "80 toys generated, fitted and scanned!\n",
      "120 toys generated, fitted and scanned!\n",
      "160 toys generated, fitted and scanned!\n",
      "Generating null hypothesis toys for POI('mean', value=-0.010204081632653073).\n",
      "0 toys generated, fitted and scanned!\n",
      "40 toys generated, fitted and scanned!\n",
      "80 toys generated, fitted and scanned!\n",
      "120 toys generated, fitted and scanned!\n",
      "160 toys generated, fitted and scanned!\n",
      "Generating null hypothesis toys for POI('mean', value=0.010204081632653073).\n",
      "0 toys generated, fitted and scanned!\n",
      "40 toys generated, fitted and scanned!\n",
      "80 toys generated, fitted and scanned!\n",
      "120 toys generated, fitted and scanned!\n",
      "160 toys generated, fitted and scanned!\n",
      "Generating null hypothesis toys for POI('mean', value=0.030612244897959107).\n",
      "0 toys generated, fitted and scanned!\n",
      "40 toys generated, fitted and scanned!\n",
      "80 toys generated, fitted and scanned!\n",
      "120 toys generated, fitted and scanned!\n",
      "160 toys generated, fitted and scanned!\n",
      "Generating null hypothesis toys for POI('mean', value=0.05102040816326525).\n",
      "0 toys generated, fitted and scanned!\n",
      "40 toys generated, fitted and scanned!\n",
      "80 toys generated, fitted and scanned!\n",
      "120 toys generated, fitted and scanned!\n",
      "160 toys generated, fitted and scanned!\n",
      "Generating null hypothesis toys for POI('mean', value=0.0714285714285714).\n",
      "0 toys generated, fitted and scanned!\n",
      "40 toys generated, fitted and scanned!\n",
      "80 toys generated, fitted and scanned!\n",
      "120 toys generated, fitted and scanned!\n",
      "160 toys generated, fitted and scanned!\n",
      "Generating null hypothesis toys for POI('mean', value=0.09183673469387754).\n",
      "0 toys generated, fitted and scanned!\n",
      "40 toys generated, fitted and scanned!\n",
      "80 toys generated, fitted and scanned!\n",
      "120 toys generated, fitted and scanned!\n",
      "160 toys generated, fitted and scanned!\n",
      "Generating null hypothesis toys for POI('mean', value=0.11224489795918358).\n",
      "0 toys generated, fitted and scanned!\n",
      "40 toys generated, fitted and scanned!\n",
      "80 toys generated, fitted and scanned!\n",
      "120 toys generated, fitted and scanned!\n",
      "160 toys generated, fitted and scanned!\n",
      "Generating null hypothesis toys for POI('mean', value=0.13265306122448972).\n",
      "0 toys generated, fitted and scanned!\n",
      "40 toys generated, fitted and scanned!\n",
      "80 toys generated, fitted and scanned!\n",
      "120 toys generated, fitted and scanned!\n",
      "160 toys generated, fitted and scanned!\n",
      "Generating null hypothesis toys for POI('mean', value=0.15306122448979587).\n",
      "0 toys generated, fitted and scanned!\n",
      "40 toys generated, fitted and scanned!\n",
      "80 toys generated, fitted and scanned!\n",
      "120 toys generated, fitted and scanned!\n",
      "160 toys generated, fitted and scanned!\n",
      "Generating null hypothesis toys for POI('mean', value=0.173469387755102).\n",
      "0 toys generated, fitted and scanned!\n",
      "40 toys generated, fitted and scanned!\n",
      "80 toys generated, fitted and scanned!\n",
      "120 toys generated, fitted and scanned!\n",
      "160 toys generated, fitted and scanned!\n",
      "Generating null hypothesis toys for POI('mean', value=0.19387755102040816).\n",
      "0 toys generated, fitted and scanned!\n",
      "40 toys generated, fitted and scanned!\n",
      "80 toys generated, fitted and scanned!\n",
      "120 toys generated, fitted and scanned!\n",
      "160 toys generated, fitted and scanned!\n",
      "Generating null hypothesis toys for POI('mean', value=0.2142857142857142).\n",
      "0 toys generated, fitted and scanned!\n",
      "40 toys generated, fitted and scanned!\n",
      "80 toys generated, fitted and scanned!\n",
      "120 toys generated, fitted and scanned!\n",
      "160 toys generated, fitted and scanned!\n",
      "Generating null hypothesis toys for POI('mean', value=0.23469387755102034).\n",
      "0 toys generated, fitted and scanned!\n",
      "40 toys generated, fitted and scanned!\n",
      "80 toys generated, fitted and scanned!\n",
      "120 toys generated, fitted and scanned!\n",
      "160 toys generated, fitted and scanned!\n",
      "Generating null hypothesis toys for POI('mean', value=0.2551020408163265).\n",
      "0 toys generated, fitted and scanned!\n",
      "40 toys generated, fitted and scanned!\n",
      "80 toys generated, fitted and scanned!\n",
      "120 toys generated, fitted and scanned!\n",
      "160 toys generated, fitted and scanned!\n",
      "Generating null hypothesis toys for POI('mean', value=0.2755102040816326).\n",
      "0 toys generated, fitted and scanned!\n",
      "40 toys generated, fitted and scanned!\n",
      "80 toys generated, fitted and scanned!\n",
      "120 toys generated, fitted and scanned!\n",
      "160 toys generated, fitted and scanned!\n",
      "Generating null hypothesis toys for POI('mean', value=0.29591836734693866).\n",
      "0 toys generated, fitted and scanned!\n",
      "40 toys generated, fitted and scanned!\n",
      "80 toys generated, fitted and scanned!\n",
      "120 toys generated, fitted and scanned!\n",
      "160 toys generated, fitted and scanned!\n",
      "Generating null hypothesis toys for POI('mean', value=0.3163265306122448).\n",
      "0 toys generated, fitted and scanned!\n",
      "40 toys generated, fitted and scanned!\n",
      "80 toys generated, fitted and scanned!\n",
      "120 toys generated, fitted and scanned!\n",
      "160 toys generated, fitted and scanned!\n",
      "Generating null hypothesis toys for POI('mean', value=0.33673469387755095).\n",
      "0 toys generated, fitted and scanned!\n",
      "40 toys generated, fitted and scanned!\n",
      "80 toys generated, fitted and scanned!\n",
      "120 toys generated, fitted and scanned!\n",
      "160 toys generated, fitted and scanned!\n",
      "Generating null hypothesis toys for POI('mean', value=0.3571428571428571).\n",
      "0 toys generated, fitted and scanned!\n",
      "40 toys generated, fitted and scanned!\n",
      "80 toys generated, fitted and scanned!\n",
      "120 toys generated, fitted and scanned!\n",
      "160 toys generated, fitted and scanned!\n",
      "Generating null hypothesis toys for POI('mean', value=0.37755102040816324).\n",
      "0 toys generated, fitted and scanned!\n",
      "40 toys generated, fitted and scanned!\n",
      "80 toys generated, fitted and scanned!\n",
      "120 toys generated, fitted and scanned!\n",
      "160 toys generated, fitted and scanned!\n",
      "Generating null hypothesis toys for POI('mean', value=0.3979591836734693).\n",
      "0 toys generated, fitted and scanned!\n",
      "40 toys generated, fitted and scanned!\n",
      "80 toys generated, fitted and scanned!\n",
      "120 toys generated, fitted and scanned!\n",
      "160 toys generated, fitted and scanned!\n",
      "Generating null hypothesis toys for POI('mean', value=0.4183673469387754).\n",
      "0 toys generated, fitted and scanned!\n",
      "40 toys generated, fitted and scanned!\n",
      "80 toys generated, fitted and scanned!\n",
      "120 toys generated, fitted and scanned!\n"
     ]
    }
   ],
   "source": [
    "bins = 40\n",
    "bounds = (0, 0.7)\n",
    "\n",
    "plt.hist(calculator.qnull(poinull, None)[poinull[25]], bins=bins, range=bounds, histtype=\"step\", label=\"qtilde = False\", log=True)\n",
    "plt.hist(calculator.qnull(poinull, None, qtilde=True)[poinull[25]], bins=bins, range=bounds, histtype=\"step\", label=\"qtilde = False\", log=True)\n",
    "plt.legend()"
   ]
  },
  {
   "cell_type": "code",
   "execution_count": null,
   "metadata": {},
   "outputs": [],
   "source": []
  }
 ],
 "metadata": {
  "kernelspec": {
   "display_name": "Python 3",
   "language": "python",
   "name": "python3"
  },
  "language_info": {
   "codemirror_mode": {
    "name": "ipython",
    "version": 3
   },
   "file_extension": ".py",
   "mimetype": "text/x-python",
   "name": "python",
   "nbconvert_exporter": "python",
   "pygments_lexer": "ipython3",
   "version": "3.7.6"
  }
 },
 "nbformat": 4,
 "nbformat_minor": 4
}
